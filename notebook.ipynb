{
 "cells": [
  {
   "cell_type": "code",
   "execution_count": 1,
   "metadata": {},
   "outputs": [],
   "source": [
    "import numpy"
   ]
  },
  {
   "cell_type": "code",
   "execution_count": 6,
   "metadata": {},
   "outputs": [
    {
     "name": "stdout",
     "output_type": "stream",
     "text": [
      "Outputs:\n",
      " [[-4.75  -0.11   9.865 -0.835]]\n"
     ]
    }
   ],
   "source": [
    "# Define the inputs, weights, and biases\n",
    "inputs = np.array([\n",
    "    [1.0, 2.0, -1.5],\n",
    "    [0.2, 0.5, 2.0],\n",
    "    [5.0, 2.7, 0.8],\n",
    "    [3.0, 2.5, -1.0]\n",
    "])\n",
    "\n",
    "# Adjust the weights to match input shape (4, 3) rather than (4, 4)\n",
    "weights = np.array([\n",
    "    [2.0, -0.8, 3.3],\n",
    "    [-0.5, 1.0, -0.26],\n",
    "    [2.0, 3.0, -0.91],\n",
    "    [0.26, -0.5, -0.27]\n",
    "])\n",
    "\n",
    "# Adjust biases to match output shape\n",
    "biases = np.array([0.2, 2.0, -0.5, 0.5])\n",
    "\n",
    "# Compute the dot product of inputs and the transpose of weights\n",
    "outputs = np.dot(inputs, weights.T) - biases\n",
    "\n",
    "print(\"Outputs:\\n\", outputs)\n"
   ]
  },
  {
   "cell_type": "code",
   "execution_count": 10,
   "metadata": {},
   "outputs": [
    {
     "name": "stdout",
     "output_type": "stream",
     "text": [
      "[[ 4.8    1.21   2.385]\n",
      " [ 8.9   -1.81   0.2  ]\n",
      " [ 1.41   1.051  0.026]]\n"
     ]
    }
   ],
   "source": [
    "inputs = [[1.0, 2.0, 3.0, 2.5],\n",
    " [2.0, 5.0, -1.0, 2.0],\n",
    " [-1.5, 2.7, 3.3, -0.8]]\n",
    "\n",
    "\n",
    "weights = [[0.2, 0.8, -0.5, 1.0],\n",
    " [0.5, -0.91, 0.26, -0.5],\n",
    " [-0.26, -0.27, 0.17, 0.87]]\n",
    "\n",
    "\n",
    "biases = [2.0, 3.0, 0.5]\n",
    "\n",
    "\n",
    "layer_outputs = np.dot(inputs, np.array(weights).T) + biases\n",
    "\n",
    "\n",
    "print(layer_outputs)"
   ]
  },
  {
   "cell_type": "code",
   "execution_count": 13,
   "metadata": {},
   "outputs": [
    {
     "data": {
      "text/plain": [
       "array([[ 4.8  ,  1.21 ,  2.385],\n",
       "       [ 8.9  , -1.81 ,  0.2  ],\n",
       "       [ 1.41 ,  1.051,  0.026]])"
      ]
     },
     "execution_count": 13,
     "metadata": {},
     "output_type": "execute_result"
    }
   ],
   "source": [
    "inputs = [[1, 2, 3, 2.5],\n",
    " [2., 5., -1., 2],\n",
    " [-1.5, 2.7, 3.3, -0.8]]\n",
    "weights = [[0.2, 0.8, -0.5, 1],\n",
    " [0.5, -0.91, 0.26, -0.5],\n",
    " [-0.26, -0.27, 0.17, 0.87]]\n",
    "biases = [2, 3, 0.5]\n",
    "\n",
    "weights2  = [[0.2, 0.8, -0.5, 1],\n",
    " [0.5, -0.91, 0.26, -0.5],\n",
    " [-0.26, -0.27, 0.17, 0.87]]\n",
    "\n",
    "layer_outputs1 = np.dot(inputs, np.array(weights).T) + biases\n",
    "\n",
    "layer_outputs1"
   ]
  },
  {
   "cell_type": "code",
   "execution_count": 20,
   "metadata": {},
   "outputs": [
    {
     "name": "stdout",
     "output_type": "stream",
     "text": [
      "[[ 4.8    1.21   2.385]\n",
      " [ 8.9   -1.81   0.2  ]\n",
      " [ 1.41   1.051  0.026]] \n",
      "\n",
      " [[2.7355]\n",
      " [2.232 ]\n",
      " [3.1098]]\n"
     ]
    }
   ],
   "source": [
    "weights2  = [[0.2, 0.8, -0.5]]\n",
    "\n",
    "\n",
    "layer_outputs2=  np.dot(layer_outputs1, np.array(weights2).T) + biases[0]\n",
    "\n",
    "\n",
    "print(layer_outputs, \"\\n\\n\", layer_outputs2)"
   ]
  },
  {
   "cell_type": "code",
   "execution_count": 23,
   "metadata": {},
   "outputs": [
    {
     "data": {
      "text/plain": [
       "array([[ 0.5031 , -1.04185],\n",
       "       [ 0.2434 , -2.7332 ],\n",
       "       [-0.99314,  1.41254]])"
      ]
     },
     "execution_count": 23,
     "metadata": {},
     "output_type": "execute_result"
    }
   ],
   "source": [
    "inputs = [[1, 2, 3, 2.5],\n",
    " [2., 5., -1., 2],\n",
    " [-1.5, 2.7, 3.3, -0.8]]\n",
    "weights = [[0.2, 0.8, -0.5, 1],\n",
    " [0.5, -0.91, 0.26, -0.5],\n",
    " [-0.26, -0.27, 0.17, 0.87]]\n",
    "biases = [2, 3, 0.5]\n",
    "weights2 = [[0.1, -0.14, 0.5],\n",
    " [-0.5, 0.12, -0.33]]\n",
    "biases2 = [-1, 2, -0.5]\n",
    "layer1_outputs = np.dot(inputs, np.array(weights).T) + biases\n",
    "layer2_outputs = np.dot(layer1_outputs, np.array(weights2).T) + biases2[0:2]\n",
    "\n",
    "\n",
    "layer2_outputs"
   ]
  },
  {
   "cell_type": "code",
   "execution_count": null,
   "metadata": {},
   "outputs": [],
   "source": []
  }
 ],
 "metadata": {
  "kernelspec": {
   "display_name": "python-deep-dive-1-puWfdXKF-py3.10",
   "language": "python",
   "name": "python3"
  },
  "language_info": {
   "codemirror_mode": {
    "name": "ipython",
    "version": 3
   },
   "file_extension": ".py",
   "mimetype": "text/x-python",
   "name": "python",
   "nbconvert_exporter": "python",
   "pygments_lexer": "ipython3",
   "version": "3.10.12"
  }
 },
 "nbformat": 4,
 "nbformat_minor": 2
}
